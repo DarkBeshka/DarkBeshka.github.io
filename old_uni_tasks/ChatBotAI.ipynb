{
  "nbformat": 4,
  "nbformat_minor": 0,
  "metadata": {
    "colab": {
      "name": "ChatBotAI.ipynb",
      "provenance": [],
      "collapsed_sections": [],
      "include_colab_link": true
    },
    "kernelspec": {
      "name": "python3",
      "display_name": "Python 3"
    },
    "language_info": {
      "name": "python"
    }
  },
  "cells": [
    {
      "cell_type": "markdown",
      "metadata": {
        "id": "view-in-github",
        "colab_type": "text"
      },
      "source": [
        "<a href=\"https://colab.research.google.com/github/DarkBeshka/DarkBeshka.github.io/blob/main/ChatBotAI.ipynb\" target=\"_parent\"><img src=\"https://colab.research.google.com/assets/colab-badge.svg\" alt=\"Open In Colab\"/></a>"
      ]
    },
    {
      "cell_type": "code",
      "metadata": {
        "id": "o6lJLg1-sZyn",
        "colab": {
          "base_uri": "https://localhost:8080/"
        },
        "outputId": "6963a4bf-e286-4c38-e386-57f6f57ef9ea"
      },
      "source": [
        "pip install python-telegram-bot --upgrade"
      ],
      "execution_count": null,
      "outputs": [
        {
          "output_type": "stream",
          "name": "stdout",
          "text": [
            "Requirement already satisfied: python-telegram-bot in /usr/local/lib/python3.7/dist-packages (13.8.1)\n",
            "Requirement already satisfied: certifi in /usr/local/lib/python3.7/dist-packages (from python-telegram-bot) (2021.10.8)\n",
            "Requirement already satisfied: APScheduler==3.6.3 in /usr/local/lib/python3.7/dist-packages (from python-telegram-bot) (3.6.3)\n",
            "Requirement already satisfied: tornado>=6.1 in /usr/local/lib/python3.7/dist-packages (from python-telegram-bot) (6.1)\n",
            "Requirement already satisfied: cachetools==4.2.2 in /usr/local/lib/python3.7/dist-packages (from python-telegram-bot) (4.2.2)\n",
            "Requirement already satisfied: pytz>=2018.6 in /usr/local/lib/python3.7/dist-packages (from python-telegram-bot) (2018.9)\n",
            "Requirement already satisfied: setuptools>=0.7 in /usr/local/lib/python3.7/dist-packages (from APScheduler==3.6.3->python-telegram-bot) (57.4.0)\n",
            "Requirement already satisfied: six>=1.4.0 in /usr/local/lib/python3.7/dist-packages (from APScheduler==3.6.3->python-telegram-bot) (1.15.0)\n",
            "Requirement already satisfied: tzlocal>=1.2 in /usr/local/lib/python3.7/dist-packages (from APScheduler==3.6.3->python-telegram-bot) (1.5.1)\n"
          ]
        }
      ]
    },
    {
      "cell_type": "code",
      "metadata": {
        "id": "ZY2tOpvsanoH"
      },
      "source": [
        "import random\n",
        "import nltk\n",
        "import json\n",
        "from sklearn.feature_extraction.text import CountVectorizer, TfidfVectorizer\n",
        "from sklearn.ensemble import RandomForestClassifier\n",
        "from sklearn.neural_network import MLPClassifier\n",
        "from sklearn.model_selection import train_test_split\n",
        "import logging\n",
        "from telegram import Update, ForceReply\n",
        "from telegram.ext import Updater, CommandHandler, MessageHandler, Filters, CallbackContext"
      ],
      "execution_count": null,
      "outputs": []
    },
    {
      "cell_type": "code",
      "metadata": {
        "id": "W-j5FF8ib0rr"
      },
      "source": [
        "# BOT_CONFIG = {\n",
        "#     'intents': {\n",
        "#         'hello': {\n",
        "#             'examples': ['Привет!', 'Здарова', 'Хей-хей!!'],\n",
        "#             'responses': ['Хай', 'Добрый вечер!', 'Здравствуйте!']\n",
        "#         },\n",
        "#         'bye': {\n",
        "#             'examples': ['Пока', 'Увидимся!', 'Покеда'],\n",
        "#             'responses': ['До свидания', 'Прощайте', 'Сайонара!']\n",
        "#         }\n",
        "#     }\n",
        "# }\n",
        "json_file_path = \"/content/THISBOT_CONFIG2.json\"\n",
        "\n",
        "with open(json_file_path, 'r') as f:\n",
        "  BOT_CONFIG = json.load(f)"
      ],
      "execution_count": null,
      "outputs": []
    },
    {
      "cell_type": "code",
      "metadata": {
        "id": "xoCjQcPBy7rO"
      },
      "source": [
        "with open('/content/BOT_CONFIG1.json', 'w') as f:\n",
        "   json.dump(BOT_CONFIG, f, ensure_ascii=False, indent=3)"
      ],
      "execution_count": null,
      "outputs": []
    },
    {
      "cell_type": "code",
      "metadata": {
        "id": "5NtkA4HjdTWb"
      },
      "source": [
        "def clean(text):\n",
        "  text = text.lower()\n",
        "  cleaned_text = ''\n",
        "  for ch in text:\n",
        "    if ch in 'абвгдеёжзийклмнопрстуфхцчшщъыьэюя':\n",
        "      cleaned_text = cleaned_text + ch\n",
        "  return cleaned_text\n",
        "\n",
        "def get_intent(text):\n",
        "  for intent in BOT_CONFIG['intents'].keys():\n",
        "    for example in BOT_CONFIG['intents'][intent]['examples']:\n",
        "      w1 = clean(example)\n",
        "      w2 = clean(text)\n",
        "      if nltk.edit_distance(w1, w2) / max(len(w1), len(w2)) < 0.4:\n",
        "        return intent\n",
        "  return 'интент не найден'"
      ],
      "execution_count": null,
      "outputs": []
    },
    {
      "cell_type": "code",
      "metadata": {
        "colab": {
          "base_uri": "https://localhost:8080/"
        },
        "id": "wNl1ljC5i4cF",
        "outputId": "6bc86130-f046-4f1e-8bb2-eda15b0a8d4c"
      },
      "source": [
        "X = []            # набор всех текстов, которые у нас есть (для векторайзера(превращает текст в цифры))\n",
        "y = []            # набор интентов этих текстов. циклом заполняем это:\n",
        "\n",
        "for intent in BOT_CONFIG['intents'].keys():\n",
        "    try:\n",
        "        for example in BOT_CONFIG['intents'][intent]['examples']:\n",
        "            X.append(example)\n",
        "            y.append(intent)\n",
        "    except:\n",
        "        pass\n",
        "\n",
        "len(X), len(y), len(set(y))"
      ],
      "execution_count": null,
      "outputs": [
        {
          "output_type": "execute_result",
          "data": {
            "text/plain": [
              "(1196, 1196, 150)"
            ]
          },
          "metadata": {},
          "execution_count": 7
        }
      ]
    },
    {
      "cell_type": "code",
      "metadata": {
        "colab": {
          "base_uri": "https://localhost:8080/"
        },
        "id": "mnh4irQurVRv",
        "outputId": "a79691f5-4b55-4922-8816-cbbb40edcdaa"
      },
      "source": [
        "X_train, X_test, y_train, y_test = train_test_split(\n",
        "    X, y, test_size=0.2, random_state=42)  #random_state мы можем зафиксировать для того, чтобы всегда генерировались случайные подвыборки\n",
        "len(X_train), len(X_test)               # разделяем наш датасет на две части: для обучения и для тренировки"
      ],
      "execution_count": null,
      "outputs": [
        {
          "output_type": "execute_result",
          "data": {
            "text/plain": [
              "(956, 240)"
            ]
          },
          "metadata": {},
          "execution_count": 8
        }
      ]
    },
    {
      "cell_type": "code",
      "metadata": {
        "colab": {
          "base_uri": "https://localhost:8080/"
        },
        "id": "OJUrFOGtkdz3",
        "outputId": "99895764-963a-470f-8531-18a12bb67c25"
      },
      "source": [
        "#vectorizer=TfidfVectorizer(preprocessor=clean, ngram_range=(1,6), analyzer='char_wb') #+randomforest-> train 0.98, test 0.59, +logreg->train 0.91, test 0.6\n",
        "vectorizer = CountVectorizer(ngram_range=(1,3), analyzer='char_wb', min_df=0.00001, max_df=0.7)   #используем наш векторайзер, превращающий текст в цифры\n",
        "X_train_vect = vectorizer.fit_transform(X_train)\n",
        "X_test_vect = vectorizer.transform(X_test)  #здесь нет fit_transform, чтобы модель не училась на тестовой выборке\n",
        "\n",
        "len(vectorizer.get_feature_names())  # посмотрим, какой длины получился словарь"
      ],
      "execution_count": null,
      "outputs": [
        {
          "output_type": "stream",
          "name": "stderr",
          "text": [
            "/usr/local/lib/python3.7/dist-packages/sklearn/utils/deprecation.py:87: FutureWarning: Function get_feature_names is deprecated; get_feature_names is deprecated in 1.0 and will be removed in 1.2. Please use get_feature_names_out instead.\n",
            "  warnings.warn(msg, category=FutureWarning)\n"
          ]
        },
        {
          "output_type": "execute_result",
          "data": {
            "text/plain": [
              "2729"
            ]
          },
          "metadata": {},
          "execution_count": 22
        }
      ]
    },
    {
      "cell_type": "code",
      "metadata": {
        "colab": {
          "base_uri": "https://localhost:8080/"
        },
        "id": "R_csaBofAs_p",
        "outputId": "8cdeb74a-7177-484a-8d28-d60780432db7"
      },
      "source": [
        "#X_train_show=vectorizer.fit_transform([\"How are you?\", \"how are you doing, hey\"])\n",
        "#X_train_show.toarray()\n",
        "#vectorizer.get_feature_names()"
      ],
      "execution_count": null,
      "outputs": [
        {
          "output_type": "execute_result",
          "data": {
            "text/plain": [
              "array([[0, 0, 0, 0, 0, 1, 1, 0, 0, 0, 0, 0, 0, 0, 0, 0, 0, 0, 0, 0, 0, 0,\n",
              "        0, 0, 0, 0, 1, 0, 1, 1, 0],\n",
              "       [1, 1, 1, 1, 1, 0, 0, 1, 1, 1, 1, 1, 1, 1, 1, 1, 1, 1, 1, 1, 1, 1,\n",
              "        1, 1, 1, 1, 0, 1, 0, 0, 1]])"
            ]
          },
          "metadata": {},
          "execution_count": 25
        }
      ]
    },
    {
      "cell_type": "code",
      "metadata": {
        "id": "7eOGJ7fzlQkX",
        "colab": {
          "base_uri": "https://localhost:8080/"
        },
        "outputId": "d54a237f-8c36-4cba-ac3c-a947022f53f0"
      },
      "source": [
        "# параметры можно было бы перебрать с помощью gridsearch и pipeline\n",
        "clf = MLPClassifier(max_iter=300).fit(X_train_vect, y_train) \n",
        "#log_reg = RandomForestClassifier()   # test 0.67\n",
        "#log_reg.fit(X_train_vect, y_train)\n",
        "clf.score(X_train_vect, y_train)         # смотрим результат обучения на тренировочной выборке"
      ],
      "execution_count": null,
      "outputs": [
        {
          "output_type": "execute_result",
          "data": {
            "text/plain": [
              "0.9916317991631799"
            ]
          },
          "metadata": {},
          "execution_count": 10
        }
      ]
    },
    {
      "cell_type": "code",
      "metadata": {
        "id": "ranBVVyprytC",
        "colab": {
          "base_uri": "https://localhost:8080/"
        },
        "outputId": "3b056689-c044-471c-b050-e3356772e650"
      },
      "source": [
        "clf.score(X_test_vect, y_test)          #смотрим результат обучения на тестовой выборке\n",
        "                        # результат может отличаться из раза в раз, потому что имеет место элемент рандома"
      ],
      "execution_count": null,
      "outputs": [
        {
          "output_type": "execute_result",
          "data": {
            "text/plain": [
              "0.7125"
            ]
          },
          "metadata": {},
          "execution_count": 11
        }
      ]
    },
    {
      "cell_type": "code",
      "metadata": {
        "id": "yEwIipd7l7gk"
      },
      "source": [
        "def get_intent_by_model(text):\n",
        "    return clf.predict(vectorizer.transform([text]))[0]"
      ],
      "execution_count": null,
      "outputs": []
    },
    {
      "cell_type": "code",
      "metadata": {
        "id": "WugqtKIamUYE"
      },
      "source": [
        "def bot(question):\n",
        "  intent = get_intent_by_model(question)\n",
        "  return random.choice(BOT_CONFIG['intents'][intent]['responses'])"
      ],
      "execution_count": null,
      "outputs": []
    },
    {
      "cell_type": "code",
      "metadata": {
        "id": "wtaQKnuFsIhl"
      },
      "source": [
        "# Подключаем нашего бота к телеграмму. Для этого используем https://github.com/python-telegram-bot/python-telegram-bot\n",
        "# пример взят из examples -> echobot\n",
        "\n",
        "\n",
        "# Enable logging\n",
        "logging.basicConfig(\n",
        "    format='%(asctime)s - %(name)s - %(levelname)s - %(message)s', level=logging.INFO\n",
        ")\n",
        "\n",
        "logger = logging.getLogger(__name__)\n",
        "\n",
        "\n",
        "# Define a few command handlers. These usually take the two arguments update and\n",
        "# context.\n",
        "def start(update: Update, context: CallbackContext) -> None:\n",
        "    \"\"\"Send a message when the command /start is issued.\"\"\"\n",
        "    user = update.effective_user\n",
        "    update.message.reply_markdown_v2(\n",
        "        fr'Hi {user.mention_markdown_v2()}\\!',\n",
        "        reply_markup=ForceReply(selective=True),\n",
        "    )\n",
        "\n",
        "\n",
        "def help_command(update: Update, context: CallbackContext) -> None:\n",
        "    \"\"\"Send a message when the command /help is issued.\"\"\"\n",
        "    update.message.reply_text('Help!')\n",
        "\n",
        "\n",
        "def echo(update: Update, context: CallbackContext) -> None:\n",
        "    \"\"\"Echo the user message.\"\"\"\n",
        "    out_text = bot(clean(update.message.text))  #принимаем текст\n",
        "    update.message.reply_text(out_text)   #выводим ответ\n",
        "\n",
        "\n",
        "def main() -> None:\n",
        "    \"\"\"Start the bot.\"\"\"\n",
        "    # Create the Updater and pass it your bot's token.\n",
        "    updater = Updater(\"мой_токен\")\n",
        "\n",
        "    # Get the dispatcher to register handlers\n",
        "    dispatcher = updater.dispatcher\n",
        "\n",
        "    # on different commands - answer in Telegram\n",
        "    dispatcher.add_handler(CommandHandler(\"start\", start))\n",
        "    dispatcher.add_handler(CommandHandler(\"help\", help_command))\n",
        "\n",
        "    # on non command i.e message - echo the message on Telegram\n",
        "    dispatcher.add_handler(MessageHandler(Filters.text & ~Filters.command, echo))\n",
        "\n",
        "    # Start the Bot\n",
        "    updater.start_polling()\n",
        "\n",
        "    # Run the bot until you press Ctrl-C or the process receives SIGINT,\n",
        "    # SIGTERM or SIGABRT. This should be used most of the time, since\n",
        "    # start_polling() is non-blocking and will stop the bot gracefully.\n",
        "    updater.idle()"
      ],
      "execution_count": null,
      "outputs": []
    },
    {
      "cell_type": "code",
      "metadata": {
        "id": "3Boywkflsnyv",
        "colab": {
          "base_uri": "https://localhost:8080/"
        },
        "outputId": "df35858b-1d2a-409b-f567-ee3be1f352b4"
      },
      "source": [
        "main()"
      ],
      "execution_count": null,
      "outputs": [
        {
          "output_type": "stream",
          "name": "stderr",
          "text": [
            "2021-11-22 19:02:41,096 - apscheduler.scheduler - INFO - Scheduler started\n",
            "2021-11-22 19:03:12,448 - telegram.ext.updater - INFO - Received signal 2 (SIGINT), stopping...\n",
            "2021-11-22 19:03:12,451 - apscheduler.scheduler - INFO - Scheduler has been shut down\n"
          ]
        }
      ]
    },
    {
      "cell_type": "code",
      "metadata": {
        "id": "qiIW4TR4tS3p"
      },
      "source": [
        ""
      ],
      "execution_count": null,
      "outputs": []
    }
  ]
}